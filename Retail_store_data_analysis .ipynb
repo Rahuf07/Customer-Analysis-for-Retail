{
 "cells": [
  {
   "cell_type": "code",
   "execution_count": 423,
   "id": "ddf6bc11-dcb2-447a-9826-29a9033cbfc4",
   "metadata": {},
   "outputs": [],
   "source": [
    "import pandas as pd\n",
    "import numpy as np\n",
    "import matplotlib.pyplot as plt\n",
    "import seaborn as sns\n",
    "import datetime as dt"
   ]
  },
  {
   "cell_type": "markdown",
   "id": "b69d12c0-7a86-43a6-bd42-493178875ed0",
   "metadata": {},
   "source": [
    " #### 1. Merge the datasets Customers, Product Hierarchy and Transactions as Customer_Final. Ensure to keep all customers who have done transactions with us and select the join type accordingly."
   ]
  },
  {
   "cell_type": "code",
   "execution_count": 445,
   "id": "bf48bea8-1c8b-445f-a6cd-f95656f4a94a",
   "metadata": {},
   "outputs": [],
   "source": [
    "customer = pd.read_csv(\"Customer.csv\" )\n",
    "prod_cat = pd.read_csv(\"prod_cat_info.csv\")\n",
    "transaction = pd.read_csv(\"Transactions.csv\")\n"
   ]
  },
  {
   "cell_type": "code",
   "execution_count": 446,
   "id": "bc983fc7-f038-4b24-a624-602b24eb6d61",
   "metadata": {},
   "outputs": [],
   "source": [
    "customer_final= transaction.merge(customer, left_on='cust_id', right_on='customer_Id', how='left')\n"
   ]
  },
  {
   "cell_type": "markdown",
   "id": "e9050df5-aa7f-40be-badc-f8ec641e4a6d",
   "metadata": {},
   "source": [
    "### 2. Prepare a summary report for the merged data set.\n"
   ]
  },
  {
   "cell_type": "markdown",
   "id": "2a2fe4fc-e32e-485e-99c3-564664e1d643",
   "metadata": {},
   "source": [
    "#### a. Get the column names and their corresponding data types"
   ]
  },
  {
   "cell_type": "code",
   "execution_count": 426,
   "id": "396d6f49-ec43-428e-89af-17d2c0096867",
   "metadata": {},
   "outputs": [
    {
     "data": {
      "text/plain": [
       "transaction_id        int64\n",
       "cust_id               int64\n",
       "tran_date            object\n",
       "prod_subcat_code      int64\n",
       "prod_cat_code         int64\n",
       "Qty                   int64\n",
       "Rate                  int64\n",
       "Tax                 float64\n",
       "total_amt           float64\n",
       "Store_type           object\n",
       "customer_Id           int64\n",
       "DOB                  object\n",
       "Gender               object\n",
       "city_code           float64\n",
       "dtype: object"
      ]
     },
     "execution_count": 426,
     "metadata": {},
     "output_type": "execute_result"
    }
   ],
   "source": [
    "customer_final.dtypes"
   ]
  },
  {
   "cell_type": "markdown",
   "id": "ab5bb9ce-543d-4371-a4a1-3f7cd18bf7df",
   "metadata": {},
   "source": [
    "#### b. Top/Bottom 10 observations"
   ]
  },
  {
   "cell_type": "code",
   "execution_count": 427,
   "id": "7e240056-1597-45b6-b473-38974edb9dad",
   "metadata": {},
   "outputs": [
    {
     "data": {
      "text/html": [
       "<div>\n",
       "<style scoped>\n",
       "    .dataframe tbody tr th:only-of-type {\n",
       "        vertical-align: middle;\n",
       "    }\n",
       "\n",
       "    .dataframe tbody tr th {\n",
       "        vertical-align: top;\n",
       "    }\n",
       "\n",
       "    .dataframe thead th {\n",
       "        text-align: right;\n",
       "    }\n",
       "</style>\n",
       "<table border=\"1\" class=\"dataframe\">\n",
       "  <thead>\n",
       "    <tr style=\"text-align: right;\">\n",
       "      <th></th>\n",
       "      <th>transaction_id</th>\n",
       "      <th>cust_id</th>\n",
       "      <th>tran_date</th>\n",
       "      <th>prod_subcat_code</th>\n",
       "      <th>prod_cat_code</th>\n",
       "      <th>Qty</th>\n",
       "      <th>Rate</th>\n",
       "      <th>Tax</th>\n",
       "      <th>total_amt</th>\n",
       "      <th>Store_type</th>\n",
       "      <th>customer_Id</th>\n",
       "      <th>DOB</th>\n",
       "      <th>Gender</th>\n",
       "      <th>city_code</th>\n",
       "    </tr>\n",
       "  </thead>\n",
       "  <tbody>\n",
       "    <tr>\n",
       "      <th>0</th>\n",
       "      <td>80712190438</td>\n",
       "      <td>270351</td>\n",
       "      <td>28-02-2014</td>\n",
       "      <td>1</td>\n",
       "      <td>1</td>\n",
       "      <td>-5</td>\n",
       "      <td>-772</td>\n",
       "      <td>405.300</td>\n",
       "      <td>-4265.300</td>\n",
       "      <td>e-Shop</td>\n",
       "      <td>270351</td>\n",
       "      <td>26-09-1981</td>\n",
       "      <td>M</td>\n",
       "      <td>5.0</td>\n",
       "    </tr>\n",
       "    <tr>\n",
       "      <th>1</th>\n",
       "      <td>29258453508</td>\n",
       "      <td>270384</td>\n",
       "      <td>27-02-2014</td>\n",
       "      <td>5</td>\n",
       "      <td>3</td>\n",
       "      <td>-5</td>\n",
       "      <td>-1497</td>\n",
       "      <td>785.925</td>\n",
       "      <td>-8270.925</td>\n",
       "      <td>e-Shop</td>\n",
       "      <td>270384</td>\n",
       "      <td>11-05-1973</td>\n",
       "      <td>F</td>\n",
       "      <td>8.0</td>\n",
       "    </tr>\n",
       "    <tr>\n",
       "      <th>2</th>\n",
       "      <td>51750724947</td>\n",
       "      <td>273420</td>\n",
       "      <td>24-02-2014</td>\n",
       "      <td>6</td>\n",
       "      <td>5</td>\n",
       "      <td>-2</td>\n",
       "      <td>-791</td>\n",
       "      <td>166.110</td>\n",
       "      <td>-1748.110</td>\n",
       "      <td>TeleShop</td>\n",
       "      <td>273420</td>\n",
       "      <td>27-07-1992</td>\n",
       "      <td>M</td>\n",
       "      <td>8.0</td>\n",
       "    </tr>\n",
       "    <tr>\n",
       "      <th>3</th>\n",
       "      <td>93274880719</td>\n",
       "      <td>271509</td>\n",
       "      <td>24-02-2014</td>\n",
       "      <td>11</td>\n",
       "      <td>6</td>\n",
       "      <td>-3</td>\n",
       "      <td>-1363</td>\n",
       "      <td>429.345</td>\n",
       "      <td>-4518.345</td>\n",
       "      <td>e-Shop</td>\n",
       "      <td>271509</td>\n",
       "      <td>08-06-1981</td>\n",
       "      <td>M</td>\n",
       "      <td>3.0</td>\n",
       "    </tr>\n",
       "    <tr>\n",
       "      <th>4</th>\n",
       "      <td>51750724947</td>\n",
       "      <td>273420</td>\n",
       "      <td>23-02-2014</td>\n",
       "      <td>6</td>\n",
       "      <td>5</td>\n",
       "      <td>-2</td>\n",
       "      <td>-791</td>\n",
       "      <td>166.110</td>\n",
       "      <td>-1748.110</td>\n",
       "      <td>TeleShop</td>\n",
       "      <td>273420</td>\n",
       "      <td>27-07-1992</td>\n",
       "      <td>M</td>\n",
       "      <td>8.0</td>\n",
       "    </tr>\n",
       "    <tr>\n",
       "      <th>5</th>\n",
       "      <td>97439039119</td>\n",
       "      <td>272357</td>\n",
       "      <td>23-02-2014</td>\n",
       "      <td>8</td>\n",
       "      <td>3</td>\n",
       "      <td>-2</td>\n",
       "      <td>-824</td>\n",
       "      <td>173.040</td>\n",
       "      <td>-1821.040</td>\n",
       "      <td>TeleShop</td>\n",
       "      <td>272357</td>\n",
       "      <td>09-10-1982</td>\n",
       "      <td>F</td>\n",
       "      <td>6.0</td>\n",
       "    </tr>\n",
       "    <tr>\n",
       "      <th>6</th>\n",
       "      <td>45649838090</td>\n",
       "      <td>273667</td>\n",
       "      <td>22-02-2014</td>\n",
       "      <td>11</td>\n",
       "      <td>6</td>\n",
       "      <td>-1</td>\n",
       "      <td>-1450</td>\n",
       "      <td>152.250</td>\n",
       "      <td>-1602.250</td>\n",
       "      <td>e-Shop</td>\n",
       "      <td>273667</td>\n",
       "      <td>29-05-1981</td>\n",
       "      <td>M</td>\n",
       "      <td>9.0</td>\n",
       "    </tr>\n",
       "    <tr>\n",
       "      <th>7</th>\n",
       "      <td>22643667930</td>\n",
       "      <td>271489</td>\n",
       "      <td>22-02-2014</td>\n",
       "      <td>12</td>\n",
       "      <td>6</td>\n",
       "      <td>-1</td>\n",
       "      <td>-1225</td>\n",
       "      <td>128.625</td>\n",
       "      <td>-1353.625</td>\n",
       "      <td>TeleShop</td>\n",
       "      <td>271489</td>\n",
       "      <td>21-04-1971</td>\n",
       "      <td>M</td>\n",
       "      <td>9.0</td>\n",
       "    </tr>\n",
       "    <tr>\n",
       "      <th>8</th>\n",
       "      <td>79792372943</td>\n",
       "      <td>275108</td>\n",
       "      <td>22-02-2014</td>\n",
       "      <td>3</td>\n",
       "      <td>1</td>\n",
       "      <td>-3</td>\n",
       "      <td>-908</td>\n",
       "      <td>286.020</td>\n",
       "      <td>-3010.020</td>\n",
       "      <td>MBR</td>\n",
       "      <td>275108</td>\n",
       "      <td>04-11-1971</td>\n",
       "      <td>F</td>\n",
       "      <td>8.0</td>\n",
       "    </tr>\n",
       "    <tr>\n",
       "      <th>9</th>\n",
       "      <td>50076728598</td>\n",
       "      <td>269014</td>\n",
       "      <td>21-02-2014</td>\n",
       "      <td>8</td>\n",
       "      <td>3</td>\n",
       "      <td>-4</td>\n",
       "      <td>-581</td>\n",
       "      <td>244.020</td>\n",
       "      <td>-2568.020</td>\n",
       "      <td>e-Shop</td>\n",
       "      <td>269014</td>\n",
       "      <td>27-11-1979</td>\n",
       "      <td>F</td>\n",
       "      <td>3.0</td>\n",
       "    </tr>\n",
       "  </tbody>\n",
       "</table>\n",
       "</div>"
      ],
      "text/plain": [
       "   transaction_id  cust_id   tran_date  prod_subcat_code  prod_cat_code  Qty  \\\n",
       "0     80712190438   270351  28-02-2014                 1              1   -5   \n",
       "1     29258453508   270384  27-02-2014                 5              3   -5   \n",
       "2     51750724947   273420  24-02-2014                 6              5   -2   \n",
       "3     93274880719   271509  24-02-2014                11              6   -3   \n",
       "4     51750724947   273420  23-02-2014                 6              5   -2   \n",
       "5     97439039119   272357  23-02-2014                 8              3   -2   \n",
       "6     45649838090   273667  22-02-2014                11              6   -1   \n",
       "7     22643667930   271489  22-02-2014                12              6   -1   \n",
       "8     79792372943   275108  22-02-2014                 3              1   -3   \n",
       "9     50076728598   269014  21-02-2014                 8              3   -4   \n",
       "\n",
       "   Rate      Tax  total_amt Store_type  customer_Id         DOB Gender  \\\n",
       "0  -772  405.300  -4265.300     e-Shop       270351  26-09-1981      M   \n",
       "1 -1497  785.925  -8270.925     e-Shop       270384  11-05-1973      F   \n",
       "2  -791  166.110  -1748.110   TeleShop       273420  27-07-1992      M   \n",
       "3 -1363  429.345  -4518.345     e-Shop       271509  08-06-1981      M   \n",
       "4  -791  166.110  -1748.110   TeleShop       273420  27-07-1992      M   \n",
       "5  -824  173.040  -1821.040   TeleShop       272357  09-10-1982      F   \n",
       "6 -1450  152.250  -1602.250     e-Shop       273667  29-05-1981      M   \n",
       "7 -1225  128.625  -1353.625   TeleShop       271489  21-04-1971      M   \n",
       "8  -908  286.020  -3010.020        MBR       275108  04-11-1971      F   \n",
       "9  -581  244.020  -2568.020     e-Shop       269014  27-11-1979      F   \n",
       "\n",
       "   city_code  \n",
       "0        5.0  \n",
       "1        8.0  \n",
       "2        8.0  \n",
       "3        3.0  \n",
       "4        8.0  \n",
       "5        6.0  \n",
       "6        9.0  \n",
       "7        9.0  \n",
       "8        8.0  \n",
       "9        3.0  "
      ]
     },
     "execution_count": 427,
     "metadata": {},
     "output_type": "execute_result"
    }
   ],
   "source": [
    "customer_final.head(10)\n"
   ]
  },
  {
   "cell_type": "code",
   "execution_count": 428,
   "id": "773262de-ab0b-416a-b277-0def5b6e6f05",
   "metadata": {},
   "outputs": [
    {
     "data": {
      "text/html": [
       "<div>\n",
       "<style scoped>\n",
       "    .dataframe tbody tr th:only-of-type {\n",
       "        vertical-align: middle;\n",
       "    }\n",
       "\n",
       "    .dataframe tbody tr th {\n",
       "        vertical-align: top;\n",
       "    }\n",
       "\n",
       "    .dataframe thead th {\n",
       "        text-align: right;\n",
       "    }\n",
       "</style>\n",
       "<table border=\"1\" class=\"dataframe\">\n",
       "  <thead>\n",
       "    <tr style=\"text-align: right;\">\n",
       "      <th></th>\n",
       "      <th>transaction_id</th>\n",
       "      <th>cust_id</th>\n",
       "      <th>tran_date</th>\n",
       "      <th>prod_subcat_code</th>\n",
       "      <th>prod_cat_code</th>\n",
       "      <th>Qty</th>\n",
       "      <th>Rate</th>\n",
       "      <th>Tax</th>\n",
       "      <th>total_amt</th>\n",
       "      <th>Store_type</th>\n",
       "      <th>customer_Id</th>\n",
       "      <th>DOB</th>\n",
       "      <th>Gender</th>\n",
       "      <th>city_code</th>\n",
       "    </tr>\n",
       "  </thead>\n",
       "  <tbody>\n",
       "    <tr>\n",
       "      <th>23043</th>\n",
       "      <td>49882891062</td>\n",
       "      <td>271982</td>\n",
       "      <td>25-01-2011</td>\n",
       "      <td>10</td>\n",
       "      <td>5</td>\n",
       "      <td>4</td>\n",
       "      <td>1330</td>\n",
       "      <td>558.600</td>\n",
       "      <td>5878.600</td>\n",
       "      <td>e-Shop</td>\n",
       "      <td>271982</td>\n",
       "      <td>10-08-1976</td>\n",
       "      <td>M</td>\n",
       "      <td>8.0</td>\n",
       "    </tr>\n",
       "    <tr>\n",
       "      <th>23044</th>\n",
       "      <td>14787475597</td>\n",
       "      <td>273982</td>\n",
       "      <td>25-01-2011</td>\n",
       "      <td>4</td>\n",
       "      <td>3</td>\n",
       "      <td>5</td>\n",
       "      <td>969</td>\n",
       "      <td>508.725</td>\n",
       "      <td>5353.725</td>\n",
       "      <td>e-Shop</td>\n",
       "      <td>273982</td>\n",
       "      <td>12-10-1991</td>\n",
       "      <td>M</td>\n",
       "      <td>4.0</td>\n",
       "    </tr>\n",
       "    <tr>\n",
       "      <th>23045</th>\n",
       "      <td>50691119572</td>\n",
       "      <td>273031</td>\n",
       "      <td>25-01-2011</td>\n",
       "      <td>6</td>\n",
       "      <td>5</td>\n",
       "      <td>1</td>\n",
       "      <td>1148</td>\n",
       "      <td>120.540</td>\n",
       "      <td>1268.540</td>\n",
       "      <td>TeleShop</td>\n",
       "      <td>273031</td>\n",
       "      <td>17-01-1980</td>\n",
       "      <td>F</td>\n",
       "      <td>8.0</td>\n",
       "    </tr>\n",
       "    <tr>\n",
       "      <th>23046</th>\n",
       "      <td>40893803228</td>\n",
       "      <td>272049</td>\n",
       "      <td>25-01-2011</td>\n",
       "      <td>11</td>\n",
       "      <td>6</td>\n",
       "      <td>3</td>\n",
       "      <td>1077</td>\n",
       "      <td>339.255</td>\n",
       "      <td>3570.255</td>\n",
       "      <td>e-Shop</td>\n",
       "      <td>272049</td>\n",
       "      <td>28-06-1975</td>\n",
       "      <td>F</td>\n",
       "      <td>6.0</td>\n",
       "    </tr>\n",
       "    <tr>\n",
       "      <th>23047</th>\n",
       "      <td>30856003613</td>\n",
       "      <td>266866</td>\n",
       "      <td>25-01-2011</td>\n",
       "      <td>4</td>\n",
       "      <td>2</td>\n",
       "      <td>2</td>\n",
       "      <td>444</td>\n",
       "      <td>93.240</td>\n",
       "      <td>981.240</td>\n",
       "      <td>TeleShop</td>\n",
       "      <td>266866</td>\n",
       "      <td>18-04-1974</td>\n",
       "      <td>M</td>\n",
       "      <td>4.0</td>\n",
       "    </tr>\n",
       "    <tr>\n",
       "      <th>23048</th>\n",
       "      <td>94340757522</td>\n",
       "      <td>274550</td>\n",
       "      <td>25-01-2011</td>\n",
       "      <td>12</td>\n",
       "      <td>5</td>\n",
       "      <td>1</td>\n",
       "      <td>1264</td>\n",
       "      <td>132.720</td>\n",
       "      <td>1396.720</td>\n",
       "      <td>e-Shop</td>\n",
       "      <td>274550</td>\n",
       "      <td>21-02-1972</td>\n",
       "      <td>M</td>\n",
       "      <td>7.0</td>\n",
       "    </tr>\n",
       "    <tr>\n",
       "      <th>23049</th>\n",
       "      <td>89780862956</td>\n",
       "      <td>270022</td>\n",
       "      <td>25-01-2011</td>\n",
       "      <td>4</td>\n",
       "      <td>1</td>\n",
       "      <td>1</td>\n",
       "      <td>677</td>\n",
       "      <td>71.085</td>\n",
       "      <td>748.085</td>\n",
       "      <td>e-Shop</td>\n",
       "      <td>270022</td>\n",
       "      <td>27-04-1984</td>\n",
       "      <td>M</td>\n",
       "      <td>9.0</td>\n",
       "    </tr>\n",
       "    <tr>\n",
       "      <th>23050</th>\n",
       "      <td>85115299378</td>\n",
       "      <td>271020</td>\n",
       "      <td>25-01-2011</td>\n",
       "      <td>2</td>\n",
       "      <td>6</td>\n",
       "      <td>4</td>\n",
       "      <td>1052</td>\n",
       "      <td>441.840</td>\n",
       "      <td>4649.840</td>\n",
       "      <td>MBR</td>\n",
       "      <td>271020</td>\n",
       "      <td>20-06-1976</td>\n",
       "      <td>M</td>\n",
       "      <td>8.0</td>\n",
       "    </tr>\n",
       "    <tr>\n",
       "      <th>23051</th>\n",
       "      <td>72870271171</td>\n",
       "      <td>270911</td>\n",
       "      <td>25-01-2011</td>\n",
       "      <td>11</td>\n",
       "      <td>5</td>\n",
       "      <td>3</td>\n",
       "      <td>1142</td>\n",
       "      <td>359.730</td>\n",
       "      <td>3785.730</td>\n",
       "      <td>TeleShop</td>\n",
       "      <td>270911</td>\n",
       "      <td>22-05-1970</td>\n",
       "      <td>M</td>\n",
       "      <td>2.0</td>\n",
       "    </tr>\n",
       "    <tr>\n",
       "      <th>23052</th>\n",
       "      <td>77960931771</td>\n",
       "      <td>271961</td>\n",
       "      <td>25-01-2011</td>\n",
       "      <td>11</td>\n",
       "      <td>5</td>\n",
       "      <td>1</td>\n",
       "      <td>447</td>\n",
       "      <td>46.935</td>\n",
       "      <td>493.935</td>\n",
       "      <td>TeleShop</td>\n",
       "      <td>271961</td>\n",
       "      <td>15-01-1982</td>\n",
       "      <td>M</td>\n",
       "      <td>1.0</td>\n",
       "    </tr>\n",
       "  </tbody>\n",
       "</table>\n",
       "</div>"
      ],
      "text/plain": [
       "       transaction_id  cust_id   tran_date  prod_subcat_code  prod_cat_code  \\\n",
       "23043     49882891062   271982  25-01-2011                10              5   \n",
       "23044     14787475597   273982  25-01-2011                 4              3   \n",
       "23045     50691119572   273031  25-01-2011                 6              5   \n",
       "23046     40893803228   272049  25-01-2011                11              6   \n",
       "23047     30856003613   266866  25-01-2011                 4              2   \n",
       "23048     94340757522   274550  25-01-2011                12              5   \n",
       "23049     89780862956   270022  25-01-2011                 4              1   \n",
       "23050     85115299378   271020  25-01-2011                 2              6   \n",
       "23051     72870271171   270911  25-01-2011                11              5   \n",
       "23052     77960931771   271961  25-01-2011                11              5   \n",
       "\n",
       "       Qty  Rate      Tax  total_amt Store_type  customer_Id         DOB  \\\n",
       "23043    4  1330  558.600   5878.600     e-Shop       271982  10-08-1976   \n",
       "23044    5   969  508.725   5353.725     e-Shop       273982  12-10-1991   \n",
       "23045    1  1148  120.540   1268.540   TeleShop       273031  17-01-1980   \n",
       "23046    3  1077  339.255   3570.255     e-Shop       272049  28-06-1975   \n",
       "23047    2   444   93.240    981.240   TeleShop       266866  18-04-1974   \n",
       "23048    1  1264  132.720   1396.720     e-Shop       274550  21-02-1972   \n",
       "23049    1   677   71.085    748.085     e-Shop       270022  27-04-1984   \n",
       "23050    4  1052  441.840   4649.840        MBR       271020  20-06-1976   \n",
       "23051    3  1142  359.730   3785.730   TeleShop       270911  22-05-1970   \n",
       "23052    1   447   46.935    493.935   TeleShop       271961  15-01-1982   \n",
       "\n",
       "      Gender  city_code  \n",
       "23043      M        8.0  \n",
       "23044      M        4.0  \n",
       "23045      F        8.0  \n",
       "23046      F        6.0  \n",
       "23047      M        4.0  \n",
       "23048      M        7.0  \n",
       "23049      M        9.0  \n",
       "23050      M        8.0  \n",
       "23051      M        2.0  \n",
       "23052      M        1.0  "
      ]
     },
     "execution_count": 428,
     "metadata": {},
     "output_type": "execute_result"
    }
   ],
   "source": [
    "customer_final.tail(10)"
   ]
  },
  {
   "cell_type": "markdown",
   "id": "40684dda-3487-4a1d-8a39-4a0a8be9e426",
   "metadata": {},
   "source": [
    "#### c. “Five-number summary” for continuous variables (min, Q1, median, Q3 and max"
   ]
  },
  {
   "cell_type": "code",
   "execution_count": 429,
   "id": "5582891a-fa4a-4a3d-bb80-d631971348ae",
   "metadata": {},
   "outputs": [
    {
     "data": {
      "text/html": [
       "<div>\n",
       "<style scoped>\n",
       "    .dataframe tbody tr th:only-of-type {\n",
       "        vertical-align: middle;\n",
       "    }\n",
       "\n",
       "    .dataframe tbody tr th {\n",
       "        vertical-align: top;\n",
       "    }\n",
       "\n",
       "    .dataframe thead th {\n",
       "        text-align: right;\n",
       "    }\n",
       "</style>\n",
       "<table border=\"1\" class=\"dataframe\">\n",
       "  <thead>\n",
       "    <tr style=\"text-align: right;\">\n",
       "      <th></th>\n",
       "      <th>min</th>\n",
       "      <th>Q1</th>\n",
       "      <th>median</th>\n",
       "      <th>Q3</th>\n",
       "      <th>max</th>\n",
       "    </tr>\n",
       "  </thead>\n",
       "  <tbody>\n",
       "    <tr>\n",
       "      <th>Qty</th>\n",
       "      <td>-5.000</td>\n",
       "      <td>1.00</td>\n",
       "      <td>3.00</td>\n",
       "      <td>4.000</td>\n",
       "      <td>5.0</td>\n",
       "    </tr>\n",
       "    <tr>\n",
       "      <th>Rate</th>\n",
       "      <td>-1499.000</td>\n",
       "      <td>312.00</td>\n",
       "      <td>710.00</td>\n",
       "      <td>1109.000</td>\n",
       "      <td>1500.0</td>\n",
       "    </tr>\n",
       "    <tr>\n",
       "      <th>Tax</th>\n",
       "      <td>7.350</td>\n",
       "      <td>98.28</td>\n",
       "      <td>199.08</td>\n",
       "      <td>365.715</td>\n",
       "      <td>787.5</td>\n",
       "    </tr>\n",
       "    <tr>\n",
       "      <th>total_amt</th>\n",
       "      <td>-8270.925</td>\n",
       "      <td>762.45</td>\n",
       "      <td>1754.74</td>\n",
       "      <td>3569.150</td>\n",
       "      <td>8287.5</td>\n",
       "    </tr>\n",
       "  </tbody>\n",
       "</table>\n",
       "</div>"
      ],
      "text/plain": [
       "                min      Q1   median        Q3     max\n",
       "Qty          -5.000    1.00     3.00     4.000     5.0\n",
       "Rate      -1499.000  312.00   710.00  1109.000  1500.0\n",
       "Tax           7.350   98.28   199.08   365.715   787.5\n",
       "total_amt -8270.925  762.45  1754.74  3569.150  8287.5"
      ]
     },
     "execution_count": 429,
     "metadata": {},
     "output_type": "execute_result"
    }
   ],
   "source": [
    "\n",
    "min_ = customer_final[[\"Qty\",\"Rate\",\"Tax\",\"total_amt\"]].min()\n",
    "max_ = customer_final[[\"Qty\",\"Rate\",\"Tax\",\"total_amt\"]].max()\n",
    "median = customer_final[[\"Qty\",\"Rate\",\"Tax\",\"total_amt\"]].median()\n",
    "Q1 =customer_final[[\"Qty\",\"Rate\",\"Tax\",\"total_amt\"]].quantile(0.25)\n",
    "Q3 = customer_final[[\"Qty\",\"Rate\",\"Tax\",\"total_amt\"]].quantile(0.75)\n",
    "five_number_summary = pd.concat([min_, Q1, median, Q3, max_], axis=1)\n",
    "five_number_summary.columns = ['min', 'Q1', 'median', 'Q3', 'max']\n",
    "five_number_summary"
   ]
  },
  {
   "cell_type": "markdown",
   "id": "f472dd70-ec78-4484-8f2f-a71f4e12f822",
   "metadata": {},
   "source": [
    "#### d. Frequency tables for all the categorical variables"
   ]
  },
  {
   "cell_type": "code",
   "execution_count": 430,
   "id": "9216f773-04f5-4d41-b2f1-9cd510023612",
   "metadata": {},
   "outputs": [
    {
     "data": {
      "text/plain": [
       "transaction_id      23053\n",
       "cust_id             23053\n",
       "tran_date           23053\n",
       "prod_subcat_code    23053\n",
       "prod_cat_code       23053\n",
       "Store_type          23053\n",
       "customer_Id         23053\n",
       "DOB                 23053\n",
       "Gender              23044\n",
       "city_code           23045\n",
       "dtype: int64"
      ]
     },
     "execution_count": 430,
     "metadata": {},
     "output_type": "execute_result"
    }
   ],
   "source": [
    "categorical=customer_final[['transaction_id', 'cust_id', 'tran_date', 'prod_subcat_code','prod_cat_code',  'Store_type','customer_Id', 'DOB', 'Gender', 'city_code']]\n",
    "Frequency = categorical.count()\n",
    "Frequency"
   ]
  },
  {
   "cell_type": "markdown",
   "id": "3b1d069c-f32f-4980-bfd7-338a85348523",
   "metadata": {},
   "source": [
    "### 3. Generate histograms for all continuous variables and frequency bars for categorical variables."
   ]
  },
  {
   "cell_type": "code",
   "execution_count": 431,
   "id": "05147868-af54-489d-b6b3-5c1bc9622769",
   "metadata": {},
   "outputs": [
    {
     "data": {
      "image/png": "[encoded data removed]",
      "text/plain": [
       "<Figure size 1350x900 with 1 Axes>"
      ]
     },
     "metadata": {},
     "output_type": "display_data"
    }
   ],
   "source": [
    "plt.figure(figsize = (13.5,9))\n",
    "sns.barplot( y = Frequency.index ,x  = Frequency , orient = \"horizontal\")\n",
    "plt.xlim(23000, 23100)\n",
    "plt.xlabel('frequency')\n",
    "plt.ylabel('categorical variables')\n",
    "plt.show()"
   ]
  },
  {
   "cell_type": "code",
   "execution_count": 432,
   "id": "322ad9ee-6ff9-4fea-8d5e-1d572cd3d58d",
   "metadata": {},
   "outputs": [
    {
     "data": {
      "image/png": "[encoded data removed]",
      "text/plain": [
       "<Figure size 1350x900 with 4 Axes>"
      ]
     },
     "metadata": {},
     "output_type": "display_data"
    }
   ],
   "source": [
    "plt.figure(figsize= (13.5,9))\n",
    "plt.subplot(2,2,1)\n",
    "plt.hist(customer_final[\"Qty\"], bins=5)\n",
    "plt.xlabel('Quantity')\n",
    "plt.ylabel('Frequency')\n",
    "plt.title('Histogram of Quantity')\n",
    "\n",
    "plt.subplot(2,2,2)\n",
    "plt.hist(customer_final[\"Tax\"], bins=5)\n",
    "plt.xlabel('tax')\n",
    "plt.ylabel('Frequency')\n",
    "plt.title('Histogram of tax')\n",
    "\n",
    "\n",
    "plt.subplot(2,2,3)\n",
    "plt.hist(customer_final[\"Rate\"], bins=5)\n",
    "plt.xlabel('Rate')\n",
    "plt.ylabel('Frequency')\n",
    "plt.title('Histogram of rate')\n",
    "\n",
    "\n",
    "plt.subplot(2,2,4)\n",
    "plt.hist(customer_final[\"total_amt\"], bins=5)\n",
    "plt.xlabel('total amount')\n",
    "plt.ylabel('Frequency')\n",
    "plt.title('Histogram of rate')\n",
    "plt.tight_layout()\n",
    "plt.show()\n"
   ]
  },
  {
   "cell_type": "markdown",
   "id": "3ba13a3c-935c-4922-8b59-c5cccf5e7789",
   "metadata": {},
   "source": [
    "### 4. Calculate the following information using the merged dataset :"
   ]
  },
  {
   "cell_type": "markdown",
   "id": "8138233f-4ce9-4436-b6d9-6f4f0ecb0c2f",
   "metadata": {
    "tags": []
   },
   "source": [
    "#### a. Time period of the available transaction data\n"
   ]
  },
  {
   "cell_type": "code",
   "execution_count": 433,
   "id": "5a9a74ae-c6bf-4948-94dd-69b22b4533e1",
   "metadata": {},
   "outputs": [],
   "source": [
    "customer_final[\"tran_date\"] =customer_final[\"tran_date\"].str.replace(\"-\", \"/\")\n",
    "customer_final['tran_date'] = pd.to_datetime(customer_final['tran_date'],format =\"%d/%m/%Y\", )\n"
   ]
  },
  {
   "cell_type": "code",
   "execution_count": 434,
   "id": "1a789df8-dc7f-419a-a645-d9bb416fce08",
   "metadata": {},
   "outputs": [
    {
     "name": "stdout",
     "output_type": "stream",
     "text": [
      "Time period: 2011-01-25 to 2014-02-28\n"
     ]
    }
   ],
   "source": [
    "\n",
    "start_date = customer_final[\"tran_date\"].min().date()\n",
    "end_date= customer_final[\"tran_date\"].max().date()\n",
    "\n",
    "print(\"Time period:\", start_date, \"to\", end_date)"
   ]
  },
  {
   "cell_type": "markdown",
   "id": "4862d797-ed4d-4ae7-8bc9-0d4be23871b9",
   "metadata": {},
   "source": [
    "#### b. Count of transactions where the total amount of transaction was negative\n"
   ]
  },
  {
   "cell_type": "code",
   "execution_count": 435,
   "id": "17bb1f9f-853f-4576-ae0a-1ef44e8496fc",
   "metadata": {},
   "outputs": [
    {
     "name": "stdout",
     "output_type": "stream",
     "text": [
      "Count of transactions where the total amount of transaction was negative : 2177\n"
     ]
    }
   ],
   "source": [
    "negative_transaction = (customer_final[\"total_amt\"] < 0).sum()\n",
    "print(f\"Count of transactions where the total amount of transaction was negative : {negative_transaction}\")"
   ]
  },
  {
   "cell_type": "markdown",
   "id": "8c4b6984-7c5a-44ee-8f25-f03cb342221f",
   "metadata": {},
   "source": [
    "### 5. Analyze which product categories are more popular among females vs male customers.\n"
   ]
  },
  {
   "cell_type": "code",
   "execution_count": 436,
   "id": "56f5f4dd-d39d-49b0-baa1-0b7bf5d16c20",
   "metadata": {},
   "outputs": [
    {
     "name": "stdout",
     "output_type": "stream",
     "text": [
      " poduct categories popular among males : \n",
      "     prod_cat_code  counts          prod_cat\n",
      "0              5    3116             Books\n",
      "1              3    2570       Electronics\n",
      "2              6    2134  Home and kitchen\n",
      "3              1    1518          Clothing\n",
      "4              2    1469          Footwear\n",
      "5              4    1004              Bags\n",
      " poduct categories popular among females : \n",
      "    prod_cat_code  counts          prod_cat\n",
      "0              5    2949             Books\n",
      "1              3    2328       Electronics\n",
      "2              6    1994  Home and kitchen\n",
      "3              2    1529          Footwear\n",
      "4              1    1439          Clothing\n",
      "5              4     994              Bags\n"
     ]
    }
   ],
   "source": [
    "# product category \n",
    "product_category  = prod_cat[[\"prod_cat_code\",\"prod_cat\"]].drop_duplicates().reset_index(drop = True)\n",
    "product_category.set_index(\"prod_cat_code\", inplace = True)\n",
    "\n",
    "# categories popular in male and female\n",
    "male = customer_final[customer_final[\"Gender\"] == \"M\"]\n",
    "female = customer_final[customer_final[\"Gender\"] == \"F\"]\n",
    "popular_male = male.groupby(\"prod_cat_code\")[\"Gender\"].count().sort_values(ascending = False)\n",
    "popular_female  = female.groupby(\"prod_cat_code\")[\"Gender\"].count().sort_values(ascending = False)\n",
    "popular_male = popular_male.to_frame(name = \"counts\").reset_index()\n",
    "popular_female = popular_female.to_frame(name = \"counts\").reset_index()\n",
    "# mapping categories to counts \n",
    "popular_male['prod_cat'] = popular_male['prod_cat_code'].map(product_category['prod_cat'])\n",
    "popular_female['prod_cat'] = popular_female['prod_cat_code'].map(product_category['prod_cat'])\n",
    "\n",
    "print(f\" poduct categories popular among males : \\n  {popular_male}\")\n",
    "print(f\" poduct categories popular among females : \\n {popular_female}\")"
   ]
  },
  {
   "cell_type": "markdown",
   "id": "f25551f0-9b9f-4a09-9439-c4e614db02b7",
   "metadata": {},
   "source": [
    "### 6. Which City code has the maximum customers and what was the percentage of customers from that city?"
   ]
  },
  {
   "cell_type": "code",
   "execution_count": 437,
   "id": "f28a6d40-e69a-4d1c-941a-21d0298c71f0",
   "metadata": {},
   "outputs": [
    {
     "name": "stdout",
     "output_type": "stream",
     "text": [
      "City code with the maximum customers is: 4.0 with a count of 2422.\n",
      "The percentage of customers from that city is 10.51%\n"
     ]
    }
   ],
   "source": [
    "# max customer\n",
    "top_city = customer_final.groupby(\"city_code\")[\"cust_id\"].count().sort_values(ascending = False).head(1).reset_index()\n",
    "# percentage\n",
    "percentage_customer = round((top_city[\"cust_id\"]/customer_final[\"cust_id\"].count())*100,2)\n",
    "\n",
    "city_code = top_city.iloc[0, 0]\n",
    "cust_count = top_city.iloc[0, 1]\n",
    "percentage = percentage_customer.iloc[0]\n",
    "print(f\"City code with the maximum customers is: {city_code} with a count of {cust_count}.\\nThe percentage of customers from that city is {percentage}%\")\n",
    "\n"
   ]
  },
  {
   "cell_type": "markdown",
   "id": "9a1e1aef-f60e-4b46-9551-256b6d341635",
   "metadata": {},
   "source": [
    "### 7. Which store type sells the maximum products by value and by quantity?"
   ]
  },
  {
   "cell_type": "code",
   "execution_count": 438,
   "id": "2885eec1-8b67-40f2-9794-6863f46e11c3",
   "metadata": {},
   "outputs": [
    {
     "name": "stdout",
     "output_type": "stream",
     "text": [
      "Store type with the maximum product value: e-Shop\n",
      "Store type with the maximum product quantity: e-Shop\n"
     ]
    }
   ],
   "source": [
    "# Group by store type and calculate the sum of product values and quantities\n",
    "store_type = customer_final.groupby(\"Store_type\").agg({\"total_amt\": \"sum\", \"Qty\": \"sum\"})\n",
    "max_value = store_type[\"total_amt\"].idxmax()\n",
    "max_quantity = store_type[\"Qty\"].idxmax()\n",
    "print(f\"Store type with the maximum product value: {max_value}\")\n",
    "print(f\"Store type with the maximum product quantity: {max_quantity}\")"
   ]
  },
  {
   "cell_type": "markdown",
   "id": "84646d71-44b6-4e5a-a5b3-23c9b70ceb34",
   "metadata": {},
   "source": [
    "### 8. What was the total amount earned from the \"Electronics\" and \"Clothing\" categories from Flagship Stores?"
   ]
  },
  {
   "cell_type": "code",
   "execution_count": 477,
   "id": "c3efe905-dbf8-4709-bdb8-e1294c02e8fb",
   "metadata": {},
   "outputs": [
    {
     "name": "stdout",
     "output_type": "stream",
     "text": [
      " total amount earned from the Electronics  categories from Flagship Stores is : 2215136.04 \n",
      " total amount earned from the clothing  categories from Flagship Stores is : 1194423.23 \n"
     ]
    }
   ],
   "source": [
    "# product category \n",
    "product_category  = prod_cat[[\"prod_cat_code\",\"prod_cat\"]].drop_duplicates().reset_index(drop = True)\n",
    "product_category.set_index(\"prod_cat_code\", inplace = True)\n",
    "# merging product category to customer_final table\n",
    "customer_final_new = customer_final.merge(product_category, left_on='prod_cat_code', right_on='prod_cat_code', how='left')\n",
    "Flagship_Stores = customer_final_new[customer_final_new[\"Store_type\"] == \"Flagship store\"]\n",
    "\n",
    "total_amount_electronics =Flagship_Stores[Flagship_Stores[\"prod_cat\"] == \"Electronics\"].groupby(\"prod_cat\")[\"total_amt\"].sum().max()\n",
    "total_amount_Clothing =Flagship_Stores[Flagship_Stores[\"prod_cat\"] == \"Clothing\"].groupby(\"prod_cat\")[\"total_amt\"].sum().max()\n",
    "\n",
    "print(f\" total amount earned from the Electronics  categories from Flagship Stores is : {total_amount_electronics} \")\n",
    "print(f\" total amount earned from the clothing  categories from Flagship Stores is : {total_amount_Clothing} \")"
   ]
  },
  {
   "cell_type": "markdown",
   "id": "749ea8b7-ae7b-427f-9139-857c63cf9502",
   "metadata": {},
   "source": [
    "### 9. What was the total amount earned from \"Male\" customers under the \"Electronics\" category?"
   ]
  },
  {
   "cell_type": "code",
   "execution_count": 454,
   "id": "d383662f-af10-4189-b3e3-9c5cab60e6ac",
   "metadata": {},
   "outputs": [
    {
     "name": "stdout",
     "output_type": "stream",
     "text": [
      "The total amount earned from male customers in the electronics category is: 5703109.42\n"
     ]
    }
   ],
   "source": [
    "male_electronic_sale = customer_final_new[(customer_final_new[\"Gender\"] == \"M\") &( customer_final_new[\"prod_cat\"] == \"Electronics\")]\n",
    "total_earnings =  round(male_electronic_sale[\"total_amt\"].sum(),2)\n",
    "print(f\"The total amount earned from male customers in the electronics category is: {total_earnings}\")"
   ]
  },
  {
   "cell_type": "markdown",
   "id": "edf9f192-6015-489b-b38e-893a0bed2379",
   "metadata": {},
   "source": [
    "### 10. How many customers have more than 10 unique transactions, after removing all transactions which have any negative amounts? "
   ]
  },
  {
   "cell_type": "code",
   "execution_count": 455,
   "id": "94aca551-49a4-494b-95ee-85e957f1e1b8",
   "metadata": {},
   "outputs": [
    {
     "name": "stdout",
     "output_type": "stream",
     "text": [
      "No of customer having more than 10 unique transaction 6\n"
     ]
    }
   ],
   "source": [
    "positive_amount = customer_final_new[customer_final_new[\"total_amt\"] > 0]\n",
    "customer_transaction = positive_amount.groupby(\"cust_id\")[\"cust_id\"].count().sort_values(ascending = False)\n",
    "no_of_cust = customer_transaction[customer_transaction > 10]\n",
    "print(f\"No of customer having more than 10 unique transaction {no_of_cust.count()}\")"
   ]
  },
  {
   "cell_type": "markdown",
   "id": "d6174fc8-0a5e-4163-896a-258f1fe35b79",
   "metadata": {},
   "source": [
    "### 11. For all customers aged between 25 - 35, find out:"
   ]
  },
  {
   "cell_type": "markdown",
   "id": "2fdc436b-60e9-4d13-af94-1f801c4c91ed",
   "metadata": {},
   "source": [
    "####  a. What was the total amount spent for “Electronics” and “Books” product categories?\n"
   ]
  },
  {
   "cell_type": "code",
   "execution_count": 476,
   "id": "770ce63f-ab12-4fb2-919d-e8b328b3ae57",
   "metadata": {},
   "outputs": [
    {
     "name": "stdout",
     "output_type": "stream",
     "text": [
      "customer aged between 25 - 35 spent  on electronics is : 2272147.41\n",
      "customer aged between 25 - 35 spent  on books is : 2667784.93\n"
     ]
    }
   ],
   "source": [
    "customer_final_new[\"DOB\"] = pd.to_datetime(customer_final_new[\"DOB\"] , format = \"%d-%m-%Y\")\n",
    "today = dt.datetime.now().date()\n",
    "today = today.strftime( \"%Y-%m-%d\")\n",
    "today = pd.to_datetime(today, format = \"%Y-%m-%d\")\n",
    "customer_final_new[\"age\"] = today.year - customer_final_new[\"DOB\"].dt.year\n",
    "\n",
    "# customer between ages 25 -35\n",
    "customer = customer_final_new[(customer_final_new[\"age\"] <=35) & (customer_final_new[\"age\"] >=25)]\n",
    "electronic_customer = customer[customer[\"prod_cat\"] == \"Electronics\"]\n",
    "electronic_customer_spend = electronic_customer[\"total_amt\"].sum()\n",
    "books_customer = customer[customer[\"prod_cat\"] == \"Books\"]\n",
    "books_customer_spend = round(books_customer[\"total_amt\"].sum(),2)\n",
    "\n",
    "print(f\"customer aged between 25 - 35 spent  on electronics is : {electronic_customer_spend}\")\n",
    "print(f\"customer aged between 25 - 35 spent  on books is : {books_customer_spend}\")"
   ]
  },
  {
   "cell_type": "markdown",
   "id": "c7da436d-f562-4b14-abf9-ef08477341f5",
   "metadata": {},
   "source": [
    "####  b. What was the total amount spent by these customers between 1st Jan, 2014 to 1st Mar, 2014?\n"
   ]
  },
  {
   "cell_type": "code",
   "execution_count": 478,
   "id": "2a443809-a6be-4183-ad33-ff8044c382a9",
   "metadata": {},
   "outputs": [
    {
     "name": "stdout",
     "output_type": "stream",
     "text": [
      "total amount spent by these customers between 1st Jan, 2014 to 1st Mar, 2014 : 2175087.53\n"
     ]
    }
   ],
   "source": [
    "customer_final_new[\"tran_date\"] = customer_final_new[\"tran_date\"].str.replace(\"/\",\"-\")\n",
    "customer_final_new[\"tran_date\"] = pd.to_datetime(customer_final_new[\"tran_date\"], format = (\"%d-%m-%Y\"))\n",
    "date1 = dt.datetime.strptime(\"2014-01-01\", \"%Y-%m-%d\")\n",
    "date2 = dt.datetime.strptime(\"2014-03-01\", \"%Y-%m-%d\")\n",
    "filtered_date = customer_final_new[(customer_final_new[\"tran_date\"]  < date2 ) & (customer_final_new[\"tran_date\"]  > date1 )]\n",
    "filtered_date_spend = round(filtered_date[\"total_amt\"].sum(),2)\n",
    "print(f\"total amount spent by these customers between 1st Jan, 2014 to 1st Mar, 2014 : {filtered_date_spend}\")"
   ]
  },
  {
   "cell_type": "code",
   "execution_count": null,
   "id": "725acc63-d755-47fb-800c-2086450aacd6",
   "metadata": {},
   "outputs": [],
   "source": []
  }
 ],
 "metadata": {
  "kernelspec": {
   "display_name": "Python 3 (ipykernel)",
   "language": "python",
   "name": "python3"
  },
  "language_info": {
   "codemirror_mode": {
    "name": "ipython",
    "version": 3
   },
   "file_extension": ".py",
   "mimetype": "text/x-python",
   "name": "python",
   "nbconvert_exporter": "python",
   "pygments_lexer": "ipython3",
   "version": "3.9.13"
  }
 },
 "nbformat": 4,
 "nbformat_minor": 5
}
